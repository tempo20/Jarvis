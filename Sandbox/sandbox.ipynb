{
 "cells": [
  {
   "cell_type": "code",
   "execution_count": 4,
   "metadata": {},
   "outputs": [],
   "source": [
    "from transformers import AutoTokenizer, AutoModelForSeq2SeqLM\n",
    "import os\n",
    "import sys\n",
    "sys.path.append(os.path.dirname(os.getcwd()))\n",
    "from models.FalconsAI.model import *\n"
   ]
  },
  {
   "cell_type": "code",
   "execution_count": 5,
   "metadata": {},
   "outputs": [],
   "source": [
    "test = \"\"\"ZANDVOORT, Netherlands -- Lando Norris recovered from another fluffed start from pole position to beat Max Verstappen at the Dutch Grand Prix, claiming an overdue second F1 victory in the process Sunday.\n",
    "\n",
    "Having lost the lead off the line, Norris patiently waited until Lap 18 to get back in front of the local favourite.\n",
    "\n",
    "Norris controlled the race from that point and his winning margin was a comfortable 22 seconds, a performance capped by setting the fastest lap on the last lap of the race.\n",
    "\n",
    "The win -- and the bonus point which comes with it -- helped him chip away at Verstappen's healthy championship lead, which is now 70 points with nine races to spare.\n",
    "\n",
    "It gave Norris a second win to add to his Miami Grand Prix triumph at the start of May.\n",
    "\n",
    "While a tight championship battle between the two still seems improbable, the sheer scale of McLaren's pace advantage will set up a fascinating run-in to the end of the year, especially with a doubleheader of street circuits in Baku and Singapore after next week's Italian Grand Prix where Red Bull may struggle.\n",
    "\n",
    "On the flip side, the constructors' championship between their two teams continues to look wide open.\n",
    "\n",
    "With Norris' teammate Oscar Piastri finishing fourth and Verstappen's teammate Sergio Perez finishing sixth, McLaren now trails by just 22 points.\n",
    "\n",
    "\n",
    "The race marks the first time Lando Norris has won after starting on pole position.\n",
    "James Sutton - Formula 1/Formula 1 via Getty Images\n",
    "McLaren's only regret might be that it did not make a further dent into that tally, with Piastri struggling to match Norris in the other car.\n",
    "\n",
    "Charles Leclerc pipped Piastri to the final spot on the podium with a stellar race and a flawless strategy from Ferrari, a huge boost ahead of its home race at Monza on Sep. 1.\n",
    "\n",
    "Leclerc's teammate Carlos Sainz was fifth ahead of Perez, who had a quiet but unspectacular race for Red Bull, his first since Christian Horner ended speculation the team could replace him with another driver.\n",
    "\n",
    "Mercedes had come into the weekend with two wins from the past three races but faded in the race. George Russell never looked like a factor in the podium fight despite starting fourth, while Lewis Hamilton was always up against it after starting out of position following a disappointing qualifying.\n",
    "\n",
    "Pierre Gasly claimed a superb ninth for Alpine on Oliver Oakes' first race as team boss, while Fernando Alonso claimed the final point on offer with 10th for Aston Martin.\"\"\""
   ]
  },
  {
   "cell_type": "code",
   "execution_count": 6,
   "metadata": {},
   "outputs": [
    {
     "data": {
      "text/plain": [
       "\"The Netherlands -- Lando Norris recovered from another fluffed start from pole position to beat Max Verstappen at the Dutch Grand Prix. McLaren now trails by just 22 points, with Oscar Piastri finishing fourth and Sergio Perez's teammate Sergio Perez finishing sixth. The race marks the first time Lando Norris has won after starting on pole position. It marks the first time Norris has won after starting on pole position despite starting on pole position.\""
      ]
     },
     "execution_count": 6,
     "metadata": {},
     "output_type": "execute_result"
    }
   ],
   "source": [
    "get_summary(test)"
   ]
  }
 ],
 "metadata": {
  "kernelspec": {
   "display_name": "Python 3.11.9 ('venv': venv)",
   "language": "python",
   "name": "python3"
  },
  "language_info": {
   "codemirror_mode": {
    "name": "ipython",
    "version": 3
   },
   "file_extension": ".py",
   "mimetype": "text/x-python",
   "name": "python",
   "nbconvert_exporter": "python",
   "pygments_lexer": "ipython3",
   "version": "3.11.9"
  },
  "vscode": {
   "interpreter": {
    "hash": "66709f80edd89ed797e973a50cbc4ab2503d3cc8c9586fc505d9ec7ebcf9ede6"
   }
  }
 },
 "nbformat": 4,
 "nbformat_minor": 2
}
