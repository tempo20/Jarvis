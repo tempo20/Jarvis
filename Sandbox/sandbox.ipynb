{
 "cells": [
  {
   "cell_type": "code",
   "execution_count": 2,
   "metadata": {},
   "outputs": [],
   "source": [
    "from transformers import AutoModelForCausalLM, AutoTokenizer, BitsAndBytesConfig"
   ]
  },
  {
   "cell_type": "code",
   "execution_count": 18,
   "metadata": {},
   "outputs": [],
   "source": [
    "quantization_config = BitsAndBytesConfig(load_in_8bit=True)\n",
    "checkpoint = \"HuggingFaceTB/SmolLM-1.7B-Instruct\"\n",
    "device = \"cpu\""
   ]
  },
  {
   "cell_type": "code",
   "execution_count": 19,
   "metadata": {},
   "outputs": [],
   "source": [
    "tokenizer = AutoTokenizer.from_pretrained(checkpoint)\n",
    "model = AutoModelForCausalLM.from_pretrained(checkpoint).to(device)"
   ]
  },
  {
   "cell_type": "code",
   "execution_count": 21,
   "metadata": {},
   "outputs": [
    {
     "name": "stdout",
     "output_type": "stream",
     "text": [
      "\n",
      "what is the difference btween celsius and fahrenheit?\n",
      "\n",
      "celsius is defined by the formula (f - 32) / 1.8<|im_end|>\n"
     ]
    }
   ],
   "source": [
    "prompt = '''\n",
    "what is the difference btween celsius and fahrenheit?\n",
    "'''\n",
    "inputs = tokenizer.encode(prompt, return_tensors=\"pt\").to(device)\n",
    "outputs = model.generate(inputs, do_sample = True, temperature = 0.7, max_new_tokens = 1024)\n",
    "print(tokenizer.decode(outputs[0]))"
   ]
  },
  {
   "cell_type": "code",
   "execution_count": 12,
   "metadata": {},
   "outputs": [
    {
     "name": "stdout",
     "output_type": "stream",
     "text": [
      "Memory footprint: 538.06 MB\n"
     ]
    }
   ],
   "source": [
    "print(f\"Memory footprint: {model.get_memory_footprint() / 1e6:.2f} MB\")\n"
   ]
  },
  {
   "cell_type": "code",
   "execution_count": 14,
   "metadata": {},
   "outputs": [],
   "source": [
    "\n"
   ]
  },
  {
   "cell_type": "code",
   "execution_count": 17,
   "metadata": {},
   "outputs": [
    {
     "name": "stdout",
     "output_type": "stream",
     "text": [
      "Of course! I would be happy to help you book a restaurant reservation for tomorrow. Please provide me with the following information:\n",
      "\n",
      "- Your name\n",
      "- The number of people in your party\n",
      "- Your preferred time for the reservation (lunch or dinner)\n",
      "- Any dietary restrictions or preferences we should be aware of\n",
      "- Your price range or any specific recommendations you are looking for\n",
      "\n",
      "With this information, I will be able to suggest suitable restaurants in your area and help you make a reservation.\n"
     ]
    }
   ],
   "source": [
    "import os\n",
    "from dotenv import load_dotenv\n",
    "load_dotenv()\n",
    "import cohere #uses cohere api, make a key and put in .env file\n",
    "co = cohere.Client(api_key=os.environ.get('COHERE_API_KEY'))\n",
    "\n",
    "response = co.chat(\n",
    "  model=\"command-r-plus\",\n",
    "  message=\"Can you help me book a restaurant reservation for tomorrow\"\n",
    ")\n",
    "\n",
    "print(response.text)"
   ]
  }
 ],
 "metadata": {
  "kernelspec": {
   "display_name": "venv",
   "language": "python",
   "name": "python3"
  },
  "language_info": {
   "codemirror_mode": {
    "name": "ipython",
    "version": 3
   },
   "file_extension": ".py",
   "mimetype": "text/x-python",
   "name": "python",
   "nbconvert_exporter": "python",
   "pygments_lexer": "ipython3",
   "version": "3.12.4"
  }
 },
 "nbformat": 4,
 "nbformat_minor": 2
}
