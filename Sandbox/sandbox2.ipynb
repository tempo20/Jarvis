{
 "cells": [
  {
   "cell_type": "code",
   "execution_count": 1,
   "metadata": {},
   "outputs": [],
   "source": [
    "import requests\n",
    "import os\n",
    "api_key = ''"
   ]
  },
  {
   "cell_type": "code",
   "execution_count": 14,
   "metadata": {},
   "outputs": [],
   "source": [
    "def google_search(query, api_key, cse_id, num_results=5):\n",
    "    \"\"\"\n",
    "    Perform a Google search and retrieve the top results.\n",
    "\n",
    "    :param query: The search query string.\n",
    "    :param api_key: Google API key.\n",
    "    :param cse_id: Custom Search Engine ID.\n",
    "    :param num_results: Number of results to return.\n",
    "    :return: List of search result snippets.\n",
    "    \"\"\"\n",
    "    search_url = f\"https://www.googleapis.com/customsearch/v1\"\n",
    "    params = {\n",
    "        \"q\": query,\n",
    "        \"key\": api_key,\n",
    "        \"cx\": cse_id,\n",
    "        \"num\": num_results\n",
    "    }\n",
    "    response = requests.get(search_url, params=params)\n",
    "    results = response.json()\n",
    "    search_results = [\n",
    "        (item['link']) for item in results.get('items', [])\n",
    "    ]\n",
    "    return search_results"
   ]
  },
  {
   "cell_type": "code",
   "execution_count": 16,
   "metadata": {},
   "outputs": [],
   "source": [
    "query = 'what is Quantum Fusion?'\n",
    "search_engine_id = '11638d376ca854226'"
   ]
  },
  {
   "cell_type": "code",
   "execution_count": 17,
   "metadata": {},
   "outputs": [
    {
     "data": {
      "text/plain": [
       "['https://is.wfu.edu/can-quantum-fusion-be-controlled/',\n",
       " 'https://www.lenr-canr.org/acrobat/GodesRquantumfus.pdf',\n",
       " 'https://forums.sailinganarchy.com/threads/north-3di-vs-quantum-fusion-m-9000.205084/',\n",
       " 'https://sites.uci.edu/energyobserver/2022/06/04/recent-progress-with-fusion-reactor-tests-and-quantum-fusion/',\n",
       " 'https://www.nature.com/articles/s41467-023-36493-1']"
      ]
     },
     "execution_count": 17,
     "metadata": {},
     "output_type": "execute_result"
    }
   ],
   "source": [
    "google_search(query, api_key, search_engine_id)"
   ]
  },
  {
   "cell_type": "code",
   "execution_count": null,
   "metadata": {},
   "outputs": [],
   "source": []
  },
  {
   "cell_type": "code",
   "execution_count": null,
   "metadata": {},
   "outputs": [],
   "source": []
  },
  {
   "cell_type": "code",
   "execution_count": null,
   "metadata": {},
   "outputs": [],
   "source": []
  }
 ],
 "metadata": {
  "kernelspec": {
   "display_name": "Python 3 (ipykernel)",
   "language": "python",
   "name": "python3"
  },
  "language_info": {
   "codemirror_mode": {
    "name": "ipython",
    "version": 3
   },
   "file_extension": ".py",
   "mimetype": "text/x-python",
   "name": "python",
   "nbconvert_exporter": "python",
   "pygments_lexer": "ipython3",
   "version": "3.11.9"
  },
  "vscode": {
   "interpreter": {
    "hash": "66709f80edd89ed797e973a50cbc4ab2503d3cc8c9586fc505d9ec7ebcf9ede6"
   }
  }
 },
 "nbformat": 4,
 "nbformat_minor": 2
}
